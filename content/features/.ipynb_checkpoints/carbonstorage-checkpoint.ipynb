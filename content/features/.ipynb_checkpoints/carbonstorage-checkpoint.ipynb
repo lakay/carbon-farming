{
 "cells": [
  {
   "cell_type": "markdown",
   "metadata": {},
   "source": [
    "# The Basic Calculations\n",
    "Here we describe the basic calcution "
   ]
  },
  {
   "cell_type": "markdown",
   "metadata": {},
   "source": [
    "## We prepare \n",
    "not visible"
   ]
  },
  {
   "cell_type": "code",
   "execution_count": null,
   "metadata": {},
   "outputs": [],
   "source": [
    "import pandas as pd\n",
    "import matplotlib as mp\n",
    "import datetime\n",
    "#from numericalunits import mL, nm\n",
    "\n"
   ]
  },
  {
   "cell_type": "markdown",
   "metadata": {},
   "source": [
    "## Our Constants\n",
    "\n",
    "We define the Constants for our calculation.\n",
    "\n",
    "Namely:\n"
   ]
  },
  {
   "cell_type": "code",
   "execution_count": null,
   "metadata": {},
   "outputs": [],
   "source": [
    "KOHLEKGPERM2 = 5\n",
    "KOMPOSTKGPERM2 = 25\n",
    "\n",
    "KOHLECO2PERKG = 110.1\n",
    "HOLZCO2PERKG = 40.37\n",
    "PFLANZECO2PERKG = 18.35"
   ]
  },
  {
   "cell_type": "code",
   "execution_count": null,
   "metadata": {},
   "outputs": [],
   "source": [
    "\n",
    "d=datetime.date(2020,12,31)\n",
    "print(d.year)"
   ]
  },
  {
   "cell_type": "code",
   "execution_count": null,
   "metadata": {},
   "outputs": [],
   "source": [
    "dt = {'year':d,'coal':50,'compost':250,'plant':10,'wood':}\n",
    "df = pd.DataFrame()"
   ]
  }
 ],
 "metadata": {
  "language_info": {
   "name": "python",
   "pygments_lexer": "ipython3"
  }
 },
 "nbformat": 4,
 "nbformat_minor": 4
}
