{
 "cells": [
  {
   "cell_type": "markdown",
   "metadata": {},
   "source": [
    "# Der Versuch einer Vorhersage\n",
    "\n",
    "Wir versuchen hier eine Vorhersage zur Speicherung von CO2 zu geben.  \n",
    "Die Grundlage für der Berechnung ist:\n",
    "\n",
    " * Die Bodenaufbereitung als Terra Preta\n",
    " * Die Pflanzung von Gilden aus mehrjärigen Pflanzen und Bäumen"
   ]
  },
  {
   "cell_type": "markdown",
   "metadata": {},
   "source": [
    "## Die Kalkulation \n",
    "not visible"
   ]
  },
  {
   "cell_type": "code",
   "execution_count": null,
   "metadata": {},
   "outputs": [],
   "source": [
    "import pandas as pd\n",
    "import matplotlib.pyplot as plt\n",
    "from datetime import datetime\n",
    "from datetime import date\n",
    "from datetime import timedelta\n",
    "\n",
    "#from numericalunits import mL, nm\n",
    "\n"
   ]
  },
  {
   "cell_type": "markdown",
   "metadata": {},
   "source": [
    "## Die Konstanten\n",
    "\n",
    "Die Konstanten der Kalkulation. Wir setzen hier die Werte für das Volumengewicht und die CO2 Speicherung\n",
    "\n",
    "Konstanten:\n",
    " * das Gewicht eines Kubikmeter Holzkohle\n",
    " * Gewicht eines Kubikmeter Kompost\n",
    " * Carbon zu CO2 Faktor\n",
    " * CO2 Gehalt in Holkohle\n",
    " * CO2 Gehalt in Holz\n",
    " * CO2 Gehalt von Pflanzen Material"
   ]
  },
  {
   "cell_type": "code",
   "execution_count": null,
   "metadata": {},
   "outputs": [],
   "source": [
    "KOHLEKGPERM3 = 0.2 * 1000 * 1000 / 1000 # Rohdichte 0.15 - 0.4 g/ccm\n",
    "KOMPOSTKGPERM3 = 730\n",
    "\n",
    "MOLGEWICHT_C = 12 # Molekular Gewicht Kohlenstoff\n",
    "MOLGEWICHT_O = 16 # Molekular Gewicht Sauerstoff\n",
    "MOLGEWICHT_CO2 = MOLGEWICHT_C + 2 * MOLGEWICHT_O # Molekular Gewicht CO2\n",
    "\n",
    "FAKTORCARBONCO2 = MOLGEWICHT_CO2 / MOLGEWICHT_C # Verhältnis CO2 zu Kohlenstoff (3.7) \n",
    "\n",
    "KOHLECO2PERKG = FAKTORCARBONCO2 * 0.85 # Holzkohle besteht zu 81%-90% aus Kohlenstoff\n",
    "HOLZCO2PERKG = FAKTORCARBONCO2 * 0.5 # Gespeichertes CO2 in Holz\n",
    "PFLANZECO2PERKG = FAKTORCARBONCO2 * 0.3 # Gespeichertes CO2 in Pflanzen\n",
    "KOMPOSTCO2PERKG = FAKTORCARBONCO2 * 0.15 # Gespeichertes CO2 in Kompost"
   ]
  },
  {
   "cell_type": "code",
   "execution_count": null,
   "metadata": {},
   "outputs": [],
   "source": [
    "# Verhältnis Holz zu Kohle\n",
    "\n",
    "raumReduktionHolzZuKohle = 1 * 0.7\n",
    "holzKgPerM3 = 700 # Buche, Rubunie(650-800 kg/m3), Laerche (400-800 kg/m3)\n",
    "\n",
    "gewichtsReduktionHolzZuKohle =  KOHLEKGPERM3 / holzKgPerM3\n",
    "\n"
   ]
  },
  {
   "cell_type": "markdown",
   "execution_count": null,
   "metadata": {},
   "outputs": [],
   "source": [
    "## Erzeugung einer 10 Jahres Vorhersage\n",
    "\n",
    "Wir versuchen eine Vorhersage des CO2 Reduktion per Hektar.  \n",
    "Unsere Annahmen sind die folgenden.\n",
    "\n",
    "### Holzohle Produktion und CO2 Speicherung\n",
    "\n",
    "Die Produktion der Holzkohle wird mittels Pyrolyse Ofen gemacht, wir erreichen so eine gute Qualität (grosse Oberfläche) und eine optimale Kohlenstoff Ausbeute des Ausgangsmaterial.  \n",
    "Holzkohle hat eine grosse Verweilzeit im Boden.  \n",
    "Der Kohlenstoffgehalt der Holzkohle liegt zwischen 81-90%, wir rechnen mit 85% bei unserem Verfahren.\n",
    "Wir gehen davon aus das wir per Jahr 2 Tonnen Holzkohle gewinnen können (dies entspricht der Verkohlung von 7t Holz (ca 7 ausgewachsenen Buchen oder 10 m3 Holz, oder ca 65 S Kon Tiki Feuerungen))\n",
    "\n",
    "### Kompost Produktion\n",
    "\n",
    "Für die Kompostierung wählen wir das aerobe Wurmkompost Verfahren. Dadurch minimieren wir die Erzeugung von Methan (einem 20x Klima schädlicherem Gas als CO2). \n",
    "Wir hoffen auf eine Produktion von ca 5 Tonnen, bei 730 kg/m3 sind dies ca 6.8 Kubikmeter Kompost.  \n",
    "Der Einfacheit halber haben wir die Menge an Mulch die ausgebracht wird mit in den Kompost eingerechnet, da dieses Material ebenfalls aerob kompostiert über die Zeit.\n",
    "\n",
    "### Boden Gewinnung\n",
    "\n",
    "Mit einem Kubikmeter Terra Preta lassen sich 6.67 m2 Beete erzeugen mit einer Bodenhöhe von 15cm.\n",
    "\n"
   ]
  },
  {
   "cell_type": "code",
   "execution_count": null,
   "metadata": {},
   "outputs": [],
   "source": [
    "def generateTenYearForecast(df):\n",
    "    \"\"\" Generiere eine Vorhersage auf zehn Jahre\n",
    "\n",
    "    Args:\n",
    "        df: Der Dataframe mit initialen Einträgen\n",
    "    Returns:\n",
    "        df: Dataframe mit einer fortschreibung der Werte für Kohle (+ 2t/Jahr), Kompost (+ 5t/Jahr),\n",
    "            Pflanzen (+ 20%/Jahr) und Holz (+ 30%/Jahr) \n",
    "    \"\"\"\n",
    "    years = 10\n",
    "    for year in range(1,10):\n",
    "        newRow={}\n",
    "        prevRow=df.iloc[year]\n",
    "        newRow['year'] = prevRow['year'] + timedelta(days=365)\n",
    "        newRow['coal'] = prevRow['coal'] + 2\n",
    "        newRow['compost'] = prevRow['compost'] + 5\n",
    "        newRow['plant'] = prevRow['plant'] + (prevRow['plant'] * 0.30)\n",
    "        newRow['wood'] = prevRow['wood'] + (prevRow['wood'] * 0.20)\n",
    "\n",
    "        df = df.append(newRow,ignore_index=True)\n",
    "    return df\n",
    "\n",
    "def calculateCo2(row):\n",
    "    \"\"\" Ermittlung der CO2 Werte für Speicherung und Emmission\n",
    "    Args:\n",
    "        row: Dataframe row (Series)\n",
    "    Returns:\n",
    "        row mit zwei zusätzlichen Columns für CO2 Speicherung und CO2 Emission\n",
    "    \"\"\"\n",
    "    row['co2 storage'] = (row['coal'] * KOHLECO2PERKG ) \\\n",
    "                + (row['compost'] * KOMPOSTCO2PERKG ) \\\n",
    "                + (row['plant'] * PFLANZECO2PERKG ) \\\n",
    "                + (row['wood'] * HOLZCO2PERKG )\n",
    "    row['co2 emissions'] = -1 * ((row['coal'] * KOHLECO2PERKG * 0.2)  \\\n",
    "                + (row['compost'] * KOMPOSTCO2PERKG * 0.5) )\n",
    "    return row\n",
    "\n",
    "def calculateDiffToPrev(df):\n",
    "    \"\"\" Wir wollen den Jahreseintrag berechnen\n",
    "\n",
    "    Args: \n",
    "        df: Ein Dataframe mit den Werten für Kohle, Kompost, Pflanze und Holz\n",
    "    \n",
    "    Returns:\n",
    "        df mit einer weiteren Spalte die das Delta CO2 zum Vorjahr ausweist\n",
    "    \"\"\"\n",
    "    prevMean=0\n",
    "    df['delta']=None\n",
    "    for index, row in df.iterrows():\n",
    "        currentMean = row['coal'] + row['compost'] + row['plant'] + row['wood']\n",
    "        delta = currentMean - prevMean\n",
    "        df.loc[index,'delta'] = delta\n",
    "        prevMean = currentMean\n",
    "    return df"
   ]
  },
  {
   "cell_type": "code",
   "execution_count": null,
   "metadata": {},
   "outputs": [],
   "source": [
    "cast = [\n",
    "        {'year':date(2019,12,31),'coal':0,'compost':0,'plant':2,'wood':0.5},\n",
    "        {'year':date(2020,12,31),'coal':2,'compost':5,'plant':2,'wood':0.5}\n",
    "    ]\n",
    "df = pd.DataFrame(cast)\n",
    "df=generateTenYearForecast(df)\n",
    "df=df.apply(calculateCo2,axis=1)\n",
    "df=calculateDiffToPrev(df)\n",
    "df"
   ]
  },
  {
   "cell_type": "code",
   "execution_count": null,
   "metadata": {},
   "outputs": [],
   "source": [
    "fig = plt.figure()\n",
    "\n",
    "ax = fig.add_subplot(1,1,1)\n",
    "ax.stackplot(df['year'],df['coal'],df['compost'],df['plant'],df['wood'])\n",
    "\n",
    "ax.plot(df['year'],df['delta'],color='red', linestyle='dashed')\n",
    "ax.set_title('Forecast Carbon Farming CO2 in Components (per ha)')\n",
    "ax.set_ylabel('tons')\n",
    "ax.set_xlabel('year')\n",
    "ax.legend(['input/year','coal','compost','plant','wood'])\n",
    "\n",
    "plt.show()"
   ]
  },
  {
   "cell_type": "code",
   "execution_count": null,
   "metadata": {},
   "outputs": [],
   "source": [
    "fig = plt.figure()\n",
    "ax2 = fig.add_subplot(1,1,1)\n",
    "ax2.stackplot(df['year'],df['co2 storage'],df['co2 emissions'])\n",
    "\n",
    "ax2.plot(df['year'],df['delta'],color='red', linestyle='dashed')\n",
    "\n",
    "ax2.set_title('Forecast C02 Storage (per ha)')\n",
    "ax2.set_ylabel('tons')\n",
    "ax2.set_xlabel('year')\n",
    "\n",
    "ax2.legend(['input/year','co2 storage','co2 emissions'])\n",
    "plt.show()"
   ]
  },
  {
   "cell_type": "code",
   "execution_count": null,
   "metadata": {},
   "outputs": [],
   "source": []
  }
 ],
 "metadata": {
  "language_info": {
   "name": "python",
   "pygments_lexer": "ipython3"
  }
 },
 "nbformat": 4,
 "nbformat_minor": 4
}
